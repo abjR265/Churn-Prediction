{
 "cells": [
  {
   "cell_type": "code",
   "execution_count": 1,
   "metadata": {},
   "outputs": [],
   "source": [
    "# Import Library\n",
    "import pandas as pd\n",
    "import numpy as np\n",
    "import seaborn as sns\n",
    "import matplotlib.pyplot as plt\n",
    "%matplotlib inline"
   ]
  },
  {
   "cell_type": "code",
   "execution_count": 14,
   "metadata": {},
   "outputs": [],
   "source": [
    "df = pd.read_csv(\"churn.csv\")\n",
    "features = df.drop(['RowNumber', 'CustomerId', 'Surname', 'Exited'], axis=1)\n",
    "target = df['Exited']"
   ]
  },
  {
   "cell_type": "code",
   "execution_count": 16,
   "metadata": {},
   "outputs": [],
   "source": [
    "# Encoding categorical variables\n",
    "from sklearn.preprocessing import LabelEncoder\n",
    "encoder = LabelEncoder()\n",
    "features['Geography'] = encoder.fit_transform(features['Geography'])\n",
    "features['Gender'] = encoder.fit_transform(features['Gender'])\n",
    "\n",
    "from sklearn.model_selection import train_test_split\n",
    "X_train, X_test, y_train, y_test = train_test_split(features, target, test_size=0.2, random_state=42)"
   ]
  },
  {
   "cell_type": "code",
   "execution_count": 17,
   "metadata": {},
   "outputs": [],
   "source": [
    "# Convert to NumPy arrays\n",
    "X_train_np = X_train.to_numpy()\n",
    "y_train_np = y_train.to_numpy()\n",
    "X_test_np = X_test.to_numpy()\n",
    "y_test_np = y_test.to_numpy()\n"
   ]
  },
  {
   "cell_type": "code",
   "execution_count": 18,
   "metadata": {},
   "outputs": [],
   "source": [
    "# Gradient Boosting Implementation\n",
    "n_estimators = 50  # Number of boosting rounds\n",
    "learning_rate = 0.1  # Learning rate\n",
    "manual_trees = []"
   ]
  },
  {
   "cell_type": "code",
   "execution_count": 19,
   "metadata": {},
   "outputs": [],
   "source": [
    "# Initialize predictions with the mean of the target variable\n",
    "initial_prediction = np.mean(y_train_np)\n",
    "train_predictions = np.full(len(y_train_np), initial_prediction)\n",
    "\n",
    "# Boosting loop\n",
    "for _ in range(n_estimators):\n",
    "    # Compute residuals (negative gradients)\n",
    "    residuals = y_train_np - train_predictions\n",
    "\n",
    "    # Fit an optimized regression tree to the residuals\n",
    "    tree = OptimizedDecisionTree(max_depth=3, num_thresholds=10)\n",
    "    tree.fit_and_predict(X_train_np, residuals)\n",
    "    manual_trees.append(tree)\n",
    "\n",
    "    # Update predictions with scaled tree predictions\n",
    "    train_predictions += learning_rate * tree.predict(X_train_np)"
   ]
  },
  {
   "cell_type": "code",
   "execution_count": 20,
   "metadata": {},
   "outputs": [],
   "source": [
    "# Importing required libraries\n",
    "import numpy as np\n",
    "import pandas as pd\n",
    "from sklearn.metrics import accuracy_score\n",
    "from sklearn.preprocessing import LabelEncoder\n",
    "from sklearn.model_selection import train_test_split\n"
   ]
  },
  {
   "cell_type": "code",
   "execution_count": 21,
   "metadata": {},
   "outputs": [],
   "source": [
    "# Decision Tree Implementation\n",
    "class OptimizedDecisionTree:\n",
    "    \"\"\"\n",
    "    A more efficient implementation of a regression tree for Gradient Boosting.\n",
    "    \"\"\"\n",
    "\n",
    "    def __init__(self, max_depth=3, min_samples_split=2, num_thresholds=10):\n",
    "        self.max_depth = max_depth\n",
    "        self.min_samples_split = min_samples_split\n",
    "        self.num_thresholds = num_thresholds  # Limit thresholds for efficiency\n",
    "        self.tree = None\n",
    "\n",
    "    def fit(self, X, y, depth=0):\n",
    "        \"\"\"\n",
    "        Recursively build the tree by splitting on features to minimize variance.\n",
    "        \"\"\"\n",
    "        n_samples, n_features = X.shape\n",
    "        if depth == self.max_depth or n_samples < self.min_samples_split:\n",
    "            return np.mean(y)  # Return leaf value (mean of target values)\n",
    "        \n",
    "        best_split = self.find_best_split(X, y, n_features)\n",
    "        if not best_split:\n",
    "            return np.mean(y)  # No split possible, return leaf value\n",
    "        \n",
    "        feature, threshold, left_idx, right_idx = best_split\n",
    "        left_tree = self.fit(X[left_idx], y[left_idx], depth + 1)\n",
    "        right_tree = self.fit(X[right_idx], y[right_idx], depth + 1)\n",
    "        \n",
    "        return {\"feature\": feature, \"threshold\": threshold, \"left\": left_tree, \"right\": right_tree}\n",
    "\n",
    "    def find_best_split(self, X, y, n_features):\n",
    "        \"\"\"\n",
    "        Find the best split for a node by minimizing residual variance.\n",
    "        Optimize by reducing the number of thresholds tested.\n",
    "        \"\"\"\n",
    "        best_feature, best_threshold = None, None\n",
    "        best_variance = float(\"inf\")\n",
    "        best_left_idx, best_right_idx = None, None\n",
    "\n",
    "        for feature in range(n_features):\n",
    "            feature_values = X[:, feature]\n",
    "            # Use percentiles to reduce threshold candidates\n",
    "            thresholds = np.percentile(feature_values, np.linspace(0, 100, self.num_thresholds))\n",
    "            for threshold in thresholds:\n",
    "                left_idx = feature_values <= threshold\n",
    "                right_idx = feature_values > threshold\n",
    "                if np.sum(left_idx) == 0 or np.sum(right_idx) == 0:\n",
    "                    continue\n",
    "                \n",
    "                left_variance = np.var(y[left_idx]) * np.sum(left_idx)\n",
    "                right_variance = np.var(y[right_idx]) * np.sum(right_idx)\n",
    "                total_variance = left_variance + right_variance\n",
    "\n",
    "                if total_variance < best_variance:\n",
    "                    best_variance = total_variance\n",
    "                    best_feature = feature\n",
    "                    best_threshold = threshold\n",
    "                    best_left_idx = left_idx\n",
    "                    best_right_idx = right_idx\n",
    "\n",
    "        if best_feature is None:\n",
    "            return None  # No valid split found\n",
    "        \n",
    "        return best_feature, best_threshold, best_left_idx, best_right_idx\n",
    "\n",
    "    def predict_single(self, x, tree):\n",
    "        \"\"\"\n",
    "        Predict the target value for a single sample by traversing the tree.\n",
    "        \"\"\"\n",
    "        if not isinstance(tree, dict):  # Leaf node\n",
    "            return tree\n",
    "\n",
    "        feature = tree[\"feature\"]\n",
    "        threshold = tree[\"threshold\"]\n",
    "        if x[feature] <= threshold:\n",
    "            return self.predict_single(x, tree[\"left\"])\n",
    "        else:\n",
    "            return self.predict_single(x, tree[\"right\"])\n",
    "\n",
    "    def predict(self, X):\n",
    "        \"\"\"\n",
    "        Predict target values for all samples.\n",
    "        \"\"\"\n",
    "        return np.array([self.predict_single(x, self.tree) for x in X])\n",
    "\n",
    "    def fit_and_predict(self, X, y):\n",
    "        \"\"\"\n",
    "        Fit the tree and set it as the current model.\n",
    "        \"\"\"\n",
    "        self.tree = self.fit(X, y)\n",
    "        return self.predict(X)"
   ]
  },
  {
   "cell_type": "code",
   "execution_count": 22,
   "metadata": {},
   "outputs": [
    {
     "name": "stdout",
     "output_type": "stream",
     "text": [
      "Gradient Boosting Accuracy: 0.86\n"
     ]
    }
   ],
   "source": [
    "# Final prediction on test data\n",
    "test_predictions = np.full(len(y_test_np), initial_prediction)\n",
    "for tree in manual_trees:\n",
    "    test_predictions += learning_rate * tree.predict(X_test_np)\n",
    "\n",
    "# Convert predictions to binary (0/1) using 0.5 as the threshold\n",
    "test_predictions_binary = (test_predictions >= 0.5).astype(int)\n",
    "\n",
    "# Calculate accuracy\n",
    "accuracy = accuracy_score(y_test_np, test_predictions_binary)\n",
    "print(f\"Gradient Boosting Accuracy: {accuracy:.2f}\")"
   ]
  },
  {
   "cell_type": "code",
   "execution_count": null,
   "metadata": {},
   "outputs": [],
   "source": []
  }
 ],
 "metadata": {
  "kernelspec": {
   "display_name": "Python 3",
   "language": "python",
   "name": "python3"
  },
  "language_info": {
   "codemirror_mode": {
    "name": "ipython",
    "version": 3
   },
   "file_extension": ".py",
   "mimetype": "text/x-python",
   "name": "python",
   "nbconvert_exporter": "python",
   "pygments_lexer": "ipython3",
   "version": "3.6.2"
  }
 },
 "nbformat": 4,
 "nbformat_minor": 2
}
